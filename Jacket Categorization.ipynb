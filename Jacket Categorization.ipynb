{
 "cells": [
  {
   "cell_type": "markdown",
   "id": "0c3779f6-d7d1-4687-878f-b2e1c3dd9a8c",
   "metadata": {},
   "source": [
    "## Jacket Categorization"
   ]
  },
  {
   "cell_type": "markdown",
   "id": "b925c61b-6f98-4b94-92f0-606cc513d8a7",
   "metadata": {},
   "source": [
    "#### Importing Libraries"
   ]
  },
  {
   "cell_type": "code",
   "execution_count": 1,
   "id": "b57e89e3-d3bb-47a4-bbef-fdd023401f99",
   "metadata": {},
   "outputs": [],
   "source": [
    "import pandas as pd\n",
    "import numpy as np\n",
    "import matplotlib.pyplot as plt\n",
    "import seaborn as sns"
   ]
  },
  {
   "cell_type": "markdown",
   "id": "7c3883ec-ea95-433a-9030-abdd1d5bccf1",
   "metadata": {},
   "source": [
    "#### Importing Dataset"
   ]
  },
  {
   "cell_type": "code",
   "execution_count": 2,
   "id": "beebfeae-ac5a-4e77-b7b0-4acb6c3abb3a",
   "metadata": {},
   "outputs": [
    {
     "data": {
      "text/html": [
       "<div>\n",
       "<style scoped>\n",
       "    .dataframe tbody tr th:only-of-type {\n",
       "        vertical-align: middle;\n",
       "    }\n",
       "\n",
       "    .dataframe tbody tr th {\n",
       "        vertical-align: top;\n",
       "    }\n",
       "\n",
       "    .dataframe thead th {\n",
       "        text-align: right;\n",
       "    }\n",
       "</style>\n",
       "<table border=\"1\" class=\"dataframe\">\n",
       "  <thead>\n",
       "    <tr style=\"text-align: right;\">\n",
       "      <th></th>\n",
       "      <th>title</th>\n",
       "      <th>type</th>\n",
       "      <th>priceWithCurrency</th>\n",
       "      <th>lastUpdated</th>\n",
       "      <th>availableText</th>\n",
       "      <th>itemLocation</th>\n",
       "    </tr>\n",
       "  </thead>\n",
       "  <tbody>\n",
       "    <tr>\n",
       "      <th>0</th>\n",
       "      <td>XIYUER Women's down jacket Short 90% duck down...</td>\n",
       "      <td>Coat</td>\n",
       "      <td>US $229.00</td>\n",
       "      <td>Oct 16, 2024 09:26:58 PDT</td>\n",
       "      <td>10 available</td>\n",
       "      <td>NaN</td>\n",
       "    </tr>\n",
       "    <tr>\n",
       "      <th>1</th>\n",
       "      <td>Reebok Men's Softshell Jacket</td>\n",
       "      <td>NaN</td>\n",
       "      <td>US $40.00</td>\n",
       "      <td>NaN</td>\n",
       "      <td>5 available</td>\n",
       "      <td>Hurst, Texas, United States</td>\n",
       "    </tr>\n",
       "    <tr>\n",
       "      <th>2</th>\n",
       "      <td>Mens Fleece Jacket Soft Plush Zip Up Fall Wint...</td>\n",
       "      <td>Jacket</td>\n",
       "      <td>US $14.99/ea</td>\n",
       "      <td>Oct 16, 2024 12:16:32 PDT</td>\n",
       "      <td>4 available</td>\n",
       "      <td>Alviso, California, United States</td>\n",
       "    </tr>\n",
       "  </tbody>\n",
       "</table>\n",
       "</div>"
      ],
      "text/plain": [
       "                                               title    type  \\\n",
       "0  XIYUER Women's down jacket Short 90% duck down...    Coat   \n",
       "1                      Reebok Men's Softshell Jacket     NaN   \n",
       "2  Mens Fleece Jacket Soft Plush Zip Up Fall Wint...  Jacket   \n",
       "\n",
       "  priceWithCurrency                lastUpdated availableText  \\\n",
       "0        US $229.00  Oct 16, 2024 09:26:58 PDT  10 available   \n",
       "1         US $40.00                        NaN   5 available   \n",
       "2      US $14.99/ea  Oct 16, 2024 12:16:32 PDT   4 available   \n",
       "\n",
       "                        itemLocation  \n",
       "0                                NaN  \n",
       "1        Hurst, Texas, United States  \n",
       "2  Alviso, California, United States  "
      ]
     },
     "execution_count": 2,
     "metadata": {},
     "output_type": "execute_result"
    }
   ],
   "source": [
    "jackets = pd.read_csv('winterjacket.csv')\n",
    "jackets.head(3)"
   ]
  },
  {
   "cell_type": "markdown",
   "id": "d8cac718-5429-4724-bbcd-7aebf60024ff",
   "metadata": {},
   "source": [
    "### Data Cleaning"
   ]
  },
  {
   "cell_type": "markdown",
   "id": "2459ab55-5f70-4590-b220-426394cdfe58",
   "metadata": {},
   "source": [
    "#### Rename Columns"
   ]
  },
  {
   "cell_type": "code",
   "execution_count": 3,
   "id": "81c16857-8482-479e-8bb9-186a45280ed6",
   "metadata": {},
   "outputs": [],
   "source": [
    "jackets.rename(columns={'title':'item', 'type':'jacket_type', 'priceWithCurrency':'price', 'lastUpdated':'season', 'availableText':'available and Sold'}, inplace=True)"
   ]
  },
  {
   "cell_type": "markdown",
   "id": "d2c57a8d-1cf8-4e72-9a49-6f38069901eb",
   "metadata": {},
   "source": [
    "#### Duplicates Removal"
   ]
  },
  {
   "cell_type": "code",
   "execution_count": 4,
   "id": "6aa71912-3548-4115-b56f-4f81c6272452",
   "metadata": {},
   "outputs": [
    {
     "data": {
      "text/plain": [
       "1"
      ]
     },
     "execution_count": 4,
     "metadata": {},
     "output_type": "execute_result"
    }
   ],
   "source": [
    "jackets.duplicated().sum()"
   ]
  },
  {
   "cell_type": "code",
   "execution_count": 5,
   "id": "4cf342b6-36bf-4cb5-b89e-777e37ba8e5d",
   "metadata": {},
   "outputs": [],
   "source": [
    "jackets.drop_duplicates(inplace=True)"
   ]
  },
  {
   "cell_type": "markdown",
   "id": "0c3a26a3-3d61-40f4-8898-95f62b8c8026",
   "metadata": {},
   "source": [
    "#### Drop Unwanted Columns"
   ]
  },
  {
   "cell_type": "code",
   "execution_count": 6,
   "id": "fa64ea4f-2ac3-4f59-b099-6766acf76f9e",
   "metadata": {},
   "outputs": [],
   "source": [
    "jackets.drop(columns='itemLocation', inplace=True)"
   ]
  },
  {
   "cell_type": "markdown",
   "id": "5b9778e9-b587-44fa-a0b6-a98fcb2dee2d",
   "metadata": {},
   "source": [
    "#### Missing Values"
   ]
  },
  {
   "cell_type": "code",
   "execution_count": 7,
   "id": "28414953-49ba-464b-acd7-d8397a40de3f",
   "metadata": {},
   "outputs": [
    {
     "data": {
      "text/plain": [
       "item                    1\n",
       "jacket_type            19\n",
       "price                   1\n",
       "season                316\n",
       "available and Sold    190\n",
       "dtype: int64"
      ]
     },
     "execution_count": 7,
     "metadata": {},
     "output_type": "execute_result"
    }
   ],
   "source": [
    "jackets.isnull().sum()"
   ]
  },
  {
   "cell_type": "code",
   "execution_count": 8,
   "id": "8249762d-8635-4084-8276-ec8da929d5aa",
   "metadata": {},
   "outputs": [],
   "source": [
    "jackets.dropna(subset=['item','price'],inplace=True)"
   ]
  },
  {
   "cell_type": "markdown",
   "id": "9d71fd1d-4a6e-4740-a987-ab44e2635810",
   "metadata": {},
   "source": [
    "#### Data Generation"
   ]
  },
  {
   "cell_type": "code",
   "execution_count": 9,
   "id": "b81ed0ea-b6dd-4d93-a5c6-9b1eb4ca6d19",
   "metadata": {},
   "outputs": [],
   "source": [
    "from nltk.tokenize import word_tokenize\n",
    "\n",
    "# lets, write a function which finds either men or women form the title\n",
    "def find_gender(text):\n",
    "    tokens = word_tokenize(text.lower())\n",
    "    for i in tokens:\n",
    "        if i == 'men' or i == 'mens':\n",
    "            gender = 'Male'\n",
    "            break\n",
    "        elif i == 'women' or i == 'womens':\n",
    "            gender = 'Female'\n",
    "            break\n",
    "        else:\n",
    "            gender = 'both'\n",
    "            break\n",
    "    return gender"
   ]
  },
  {
   "cell_type": "code",
   "execution_count": 10,
   "id": "42293829-3034-48f8-8d7d-db3b31e96a05",
   "metadata": {},
   "outputs": [],
   "source": [
    "# lets, find out whether the winter jacket is for men or women\n",
    "jackets['Gender'] = jackets['item'].apply(find_gender)"
   ]
  },
  {
   "cell_type": "code",
   "execution_count": 11,
   "id": "27f26930-a9ec-4a49-86d3-3e6ca912f026",
   "metadata": {},
   "outputs": [],
   "source": [
    "import re\n",
    "# lets, create a function which converts price into rupees\n",
    "def price_in_rupee(text):\n",
    "    if text.startswith('US'):\n",
    "        dollars = re.findall(r'[0-9]+.[0-9]{2}', text)[0]\n",
    "        if ',' in dollars:\n",
    "            dollars = dollars.replace(',','')\n",
    "        return np.round(float(dollars) * 84.0912,2)\n",
    "    elif text.startswith('GBP'):\n",
    "        gbp = re.findall(r'[0-9]+.[0-9]{2}', text)[0]\n",
    "        if ',' in gbp:\n",
    "            gbp = gbp.replace(',','')\n",
    "        return np.round(float(gbp) * 109.0627, 2)\n",
    "    elif text.startswith('AU'):\n",
    "        au = re.findall(r'[0-9]+.[0-9]{2}', text)[0]\n",
    "        if ',' in au:\n",
    "            au = au.replace(',','')\n",
    "        return np.round(float(au) * 55.333, 2)\n",
    "    elif text.startswith('EUR'):\n",
    "        eur = re.findall(r'[0-9]+.[0-9]{2}', text)[0]\n",
    "        if ',' in eur:\n",
    "            eur = eur.replace(',','')\n",
    "        return np.round(float(eur) * 90.9521, 2)\n",
    "    elif text.startswith('C'):\n",
    "        cad = re.findall(r'[0-9]+.[0-9]{2}', text)[0]\n",
    "        if ',' in cad:\n",
    "            cad = cad.replace(',','')\n",
    "        return np.round(float(cad) * 60.5428, 2)"
   ]
  },
  {
   "cell_type": "code",
   "execution_count": 12,
   "id": "82e539f4-3f55-4101-870c-29776b26dfdc",
   "metadata": {},
   "outputs": [],
   "source": [
    "jackets['price'] = jackets['price'].apply(price_in_rupee)"
   ]
  },
  {
   "cell_type": "code",
   "execution_count": 13,
   "id": "e9cfac90-ae45-4fed-a5b6-fa6b13b03bad",
   "metadata": {},
   "outputs": [],
   "source": [
    "def find_season(date):\n",
    "    if str(date).endswith('PDT'):\n",
    "        season = 'Summer'\n",
    "    elif str(date).endswith('PST'):\n",
    "        season = 'Winter'\n",
    "    else:\n",
    "        season = 'both'\n",
    "    return season"
   ]
  },
  {
   "cell_type": "code",
   "execution_count": 14,
   "id": "cf3fe7d8-1d34-4b72-a693-b651a2040425",
   "metadata": {},
   "outputs": [],
   "source": [
    "jackets['season'] = jackets['season'].apply(find_season)"
   ]
  },
  {
   "cell_type": "code",
   "execution_count": 15,
   "id": "2f117942-83f8-4ec8-9e4a-299344c97cc2",
   "metadata": {},
   "outputs": [],
   "source": [
    "jackets['available and Sold'].fillna('0 available0 sold', inplace=True)"
   ]
  },
  {
   "cell_type": "code",
   "execution_count": 16,
   "id": "8c262200-6991-4df8-8ce6-ff4740003153",
   "metadata": {},
   "outputs": [],
   "source": [
    "# lets, create a function which seperates the available jackets and sold out jackets\n",
    "def find_quantity(text):\n",
    "    data = [i.strip() for i in re.split('[0-9]+', text)]\n",
    "    quantity = re.findall('[0-9]+', text)    \n",
    "    \n",
    "    if 'Last one' in data:\n",
    "        available = 1\n",
    "        if 'sold' in data:\n",
    "            sold = int(quantity[0])\n",
    "        else:\n",
    "            sold = 0\n",
    "    elif 'sold' not in data:\n",
    "        available = int(quantity[0])\n",
    "        sold = 0\n",
    "    elif 'available' not in data:\n",
    "        available = 0\n",
    "        sold = int(quantity[0])\n",
    "    elif 'More than' in data:\n",
    "        available = np.random.randint(10, 20)\n",
    "        sold = int(''.join(quantity[1:]))\n",
    "    else:\n",
    "        available = quantity[0]\n",
    "        sold = int(''.join(quantity[1:]))\n",
    "    return available, sold"
   ]
  },
  {
   "cell_type": "code",
   "execution_count": 17,
   "id": "3a54c2dd-2d13-47be-bc9e-bd910aae7bc0",
   "metadata": {},
   "outputs": [],
   "source": [
    "jackets['available and Sold'] = jackets['available and Sold'].apply(find_quantity)\n",
    "jackets['available'] = jackets['available and Sold'].apply(lambda x: x[0])\n",
    "jackets['sold'] = jackets['available and Sold'].apply(lambda x: x[1])"
   ]
  },
  {
   "cell_type": "code",
   "execution_count": 18,
   "id": "e91e1bcd-0108-4f9d-8143-b2b0130f2fbf",
   "metadata": {},
   "outputs": [
    {
     "data": {
      "text/html": [
       "<div>\n",
       "<style scoped>\n",
       "    .dataframe tbody tr th:only-of-type {\n",
       "        vertical-align: middle;\n",
       "    }\n",
       "\n",
       "    .dataframe tbody tr th {\n",
       "        vertical-align: top;\n",
       "    }\n",
       "\n",
       "    .dataframe thead th {\n",
       "        text-align: right;\n",
       "    }\n",
       "</style>\n",
       "<table border=\"1\" class=\"dataframe\">\n",
       "  <thead>\n",
       "    <tr style=\"text-align: right;\">\n",
       "      <th></th>\n",
       "      <th>item</th>\n",
       "      <th>jacket_type</th>\n",
       "      <th>price</th>\n",
       "      <th>season</th>\n",
       "      <th>available and Sold</th>\n",
       "      <th>Gender</th>\n",
       "      <th>available</th>\n",
       "      <th>sold</th>\n",
       "    </tr>\n",
       "  </thead>\n",
       "  <tbody>\n",
       "    <tr>\n",
       "      <th>0</th>\n",
       "      <td>XIYUER Women's down jacket Short 90% duck down...</td>\n",
       "      <td>Coat</td>\n",
       "      <td>19256.88</td>\n",
       "      <td>Summer</td>\n",
       "      <td>(10, 0)</td>\n",
       "      <td>both</td>\n",
       "      <td>10</td>\n",
       "      <td>0</td>\n",
       "    </tr>\n",
       "    <tr>\n",
       "      <th>1</th>\n",
       "      <td>Reebok Men's Softshell Jacket</td>\n",
       "      <td>NaN</td>\n",
       "      <td>3363.65</td>\n",
       "      <td>both</td>\n",
       "      <td>(5, 0)</td>\n",
       "      <td>both</td>\n",
       "      <td>5</td>\n",
       "      <td>0</td>\n",
       "    </tr>\n",
       "    <tr>\n",
       "      <th>2</th>\n",
       "      <td>Mens Fleece Jacket Soft Plush Zip Up Fall Wint...</td>\n",
       "      <td>Jacket</td>\n",
       "      <td>1260.53</td>\n",
       "      <td>Summer</td>\n",
       "      <td>(4, 0)</td>\n",
       "      <td>Male</td>\n",
       "      <td>4</td>\n",
       "      <td>0</td>\n",
       "    </tr>\n",
       "  </tbody>\n",
       "</table>\n",
       "</div>"
      ],
      "text/plain": [
       "                                                item jacket_type     price  \\\n",
       "0  XIYUER Women's down jacket Short 90% duck down...        Coat  19256.88   \n",
       "1                      Reebok Men's Softshell Jacket         NaN   3363.65   \n",
       "2  Mens Fleece Jacket Soft Plush Zip Up Fall Wint...      Jacket   1260.53   \n",
       "\n",
       "   season available and Sold Gender available  sold  \n",
       "0  Summer            (10, 0)   both        10     0  \n",
       "1    both             (5, 0)   both         5     0  \n",
       "2  Summer             (4, 0)   Male         4     0  "
      ]
     },
     "execution_count": 18,
     "metadata": {},
     "output_type": "execute_result"
    }
   ],
   "source": [
    "jackets.head(3)"
   ]
  },
  {
   "cell_type": "markdown",
   "id": "6eae2ec4-4153-4135-933e-2b5c84bb74f7",
   "metadata": {},
   "source": [
    "#### Columns Infomation"
   ]
  },
  {
   "cell_type": "code",
   "execution_count": 63,
   "id": "9ec82802-b4a8-4061-ae3e-b310c46457d0",
   "metadata": {},
   "outputs": [
    {
     "name": "stdout",
     "output_type": "stream",
     "text": [
      "<class 'pandas.core.frame.DataFrame'>\n",
      "Index: 1998 entries, 0 to 1998\n",
      "Data columns (total 8 columns):\n",
      " #   Column              Non-Null Count  Dtype  \n",
      "---  ------              --------------  -----  \n",
      " 0   item                1998 non-null   object \n",
      " 1   jacket_type         1980 non-null   object \n",
      " 2   price               1998 non-null   float64\n",
      " 3   season              1998 non-null   object \n",
      " 4   available and Sold  1998 non-null   object \n",
      " 5   Gender              1998 non-null   object \n",
      " 6   available           1998 non-null   object \n",
      " 7   sold                1998 non-null   int64  \n",
      "dtypes: float64(1), int64(1), object(6)\n",
      "memory usage: 140.5+ KB\n"
     ]
    }
   ],
   "source": [
    "jackets.info()"
   ]
  },
  {
   "cell_type": "markdown",
   "id": "dd627911-0f8f-4ae5-ae7e-7a40cba3f76a",
   "metadata": {},
   "source": [
    "#### Drop Unwanted col"
   ]
  },
  {
   "cell_type": "code",
   "execution_count": 28,
   "id": "5c508ab0-c21b-46b7-90f8-a0dba81e13c7",
   "metadata": {},
   "outputs": [],
   "source": [
    "jackets.drop(columns='available and Sold', inplace=True)"
   ]
  },
  {
   "cell_type": "markdown",
   "id": "fac66eed-92be-45bd-8eb0-78e8f107f66d",
   "metadata": {},
   "source": [
    "#### Creating Analyzer"
   ]
  },
  {
   "cell_type": "code",
   "execution_count": 19,
   "id": "897113dc-145e-45ff-9c60-bdfe1c9badd7",
   "metadata": {},
   "outputs": [],
   "source": [
    "# lets, create an analyzer to do BOW\n",
    "import string\n",
    "from nltk.corpus import stopwords\n",
    "from nltk.stem import PorterStemmer\n",
    "ps = PorterStemmer()\n",
    "stop_words = set(stopwords.words('english'))\n",
    "\n",
    "def analyzer(text):\n",
    "    puncts_removed = ''.join([i.lower() for i in text if i not in string.punctuation])\n",
    "    return ' '.join([ps.stem(token) for token in word_tokenize(puncts_removed) if token not in stop_words and not token.isnumeric()])"
   ]
  },
  {
   "cell_type": "markdown",
   "id": "507879cd-620a-4161-9582-60b2da094e6c",
   "metadata": {},
   "source": [
    "## Data Preprocessing"
   ]
  },
  {
   "cell_type": "markdown",
   "id": "0a2ec118-7416-4a69-9ad3-01b14d19225e",
   "metadata": {},
   "source": [
    "#### Column Transformer"
   ]
  },
  {
   "cell_type": "code",
   "execution_count": 20,
   "id": "efd36637-d13d-4cbd-9288-a5b7fa67f658",
   "metadata": {},
   "outputs": [
    {
     "data": {
      "text/html": [
       "<style>#sk-container-id-1 {color: black;background-color: white;}#sk-container-id-1 pre{padding: 0;}#sk-container-id-1 div.sk-toggleable {background-color: white;}#sk-container-id-1 label.sk-toggleable__label {cursor: pointer;display: block;width: 100%;margin-bottom: 0;padding: 0.3em;box-sizing: border-box;text-align: center;}#sk-container-id-1 label.sk-toggleable__label-arrow:before {content: \"▸\";float: left;margin-right: 0.25em;color: #696969;}#sk-container-id-1 label.sk-toggleable__label-arrow:hover:before {color: black;}#sk-container-id-1 div.sk-estimator:hover label.sk-toggleable__label-arrow:before {color: black;}#sk-container-id-1 div.sk-toggleable__content {max-height: 0;max-width: 0;overflow: hidden;text-align: left;background-color: #f0f8ff;}#sk-container-id-1 div.sk-toggleable__content pre {margin: 0.2em;color: black;border-radius: 0.25em;background-color: #f0f8ff;}#sk-container-id-1 input.sk-toggleable__control:checked~div.sk-toggleable__content {max-height: 200px;max-width: 100%;overflow: auto;}#sk-container-id-1 input.sk-toggleable__control:checked~label.sk-toggleable__label-arrow:before {content: \"▾\";}#sk-container-id-1 div.sk-estimator input.sk-toggleable__control:checked~label.sk-toggleable__label {background-color: #d4ebff;}#sk-container-id-1 div.sk-label input.sk-toggleable__control:checked~label.sk-toggleable__label {background-color: #d4ebff;}#sk-container-id-1 input.sk-hidden--visually {border: 0;clip: rect(1px 1px 1px 1px);clip: rect(1px, 1px, 1px, 1px);height: 1px;margin: -1px;overflow: hidden;padding: 0;position: absolute;width: 1px;}#sk-container-id-1 div.sk-estimator {font-family: monospace;background-color: #f0f8ff;border: 1px dotted black;border-radius: 0.25em;box-sizing: border-box;margin-bottom: 0.5em;}#sk-container-id-1 div.sk-estimator:hover {background-color: #d4ebff;}#sk-container-id-1 div.sk-parallel-item::after {content: \"\";width: 100%;border-bottom: 1px solid gray;flex-grow: 1;}#sk-container-id-1 div.sk-label:hover label.sk-toggleable__label {background-color: #d4ebff;}#sk-container-id-1 div.sk-serial::before {content: \"\";position: absolute;border-left: 1px solid gray;box-sizing: border-box;top: 0;bottom: 0;left: 50%;z-index: 0;}#sk-container-id-1 div.sk-serial {display: flex;flex-direction: column;align-items: center;background-color: white;padding-right: 0.2em;padding-left: 0.2em;position: relative;}#sk-container-id-1 div.sk-item {position: relative;z-index: 1;}#sk-container-id-1 div.sk-parallel {display: flex;align-items: stretch;justify-content: center;background-color: white;position: relative;}#sk-container-id-1 div.sk-item::before, #sk-container-id-1 div.sk-parallel-item::before {content: \"\";position: absolute;border-left: 1px solid gray;box-sizing: border-box;top: 0;bottom: 0;left: 50%;z-index: -1;}#sk-container-id-1 div.sk-parallel-item {display: flex;flex-direction: column;z-index: 1;position: relative;background-color: white;}#sk-container-id-1 div.sk-parallel-item:first-child::after {align-self: flex-end;width: 50%;}#sk-container-id-1 div.sk-parallel-item:last-child::after {align-self: flex-start;width: 50%;}#sk-container-id-1 div.sk-parallel-item:only-child::after {width: 0;}#sk-container-id-1 div.sk-dashed-wrapped {border: 1px dashed gray;margin: 0 0.4em 0.5em 0.4em;box-sizing: border-box;padding-bottom: 0.4em;background-color: white;}#sk-container-id-1 div.sk-label label {font-family: monospace;font-weight: bold;display: inline-block;line-height: 1.2em;}#sk-container-id-1 div.sk-label-container {text-align: center;}#sk-container-id-1 div.sk-container {/* jupyter's `normalize.less` sets `[hidden] { display: none; }` but bootstrap.min.css set `[hidden] { display: none !important; }` so we also need the `!important` here to be able to override the default hidden behavior on the sphinx rendered scikit-learn.org. See: https://github.com/scikit-learn/scikit-learn/issues/21755 */display: inline-block !important;position: relative;}#sk-container-id-1 div.sk-text-repr-fallback {display: none;}</style><div id=\"sk-container-id-1\" class=\"sk-top-container\"><div class=\"sk-text-repr-fallback\"><pre>ColumnTransformer(remainder=&#x27;passthrough&#x27;, sparse_threshold=0,\n",
       "                  transformers=[(&#x27;scaler&#x27;, MinMaxScaler(),\n",
       "                                 [&#x27;price&#x27;, &#x27;available&#x27;, &#x27;sold&#x27;]),\n",
       "                                (&#x27;encoder&#x27;, OrdinalEncoder(),\n",
       "                                 [&#x27;Gender&#x27;, &#x27;season&#x27;]),\n",
       "                                (&#x27;onehot&#x27;,\n",
       "                                 OneHotEncoder(drop=&#x27;first&#x27;,\n",
       "                                               handle_unknown=&#x27;ignore&#x27;,\n",
       "                                               sparse_output=False),\n",
       "                                 [&#x27;jacket_type&#x27;])])</pre><b>In a Jupyter environment, please rerun this cell to show the HTML representation or trust the notebook. <br />On GitHub, the HTML representation is unable to render, please try loading this page with nbviewer.org.</b></div><div class=\"sk-container\" hidden><div class=\"sk-item sk-dashed-wrapped\"><div class=\"sk-label-container\"><div class=\"sk-label sk-toggleable\"><input class=\"sk-toggleable__control sk-hidden--visually\" id=\"sk-estimator-id-1\" type=\"checkbox\" ><label for=\"sk-estimator-id-1\" class=\"sk-toggleable__label sk-toggleable__label-arrow\">ColumnTransformer</label><div class=\"sk-toggleable__content\"><pre>ColumnTransformer(remainder=&#x27;passthrough&#x27;, sparse_threshold=0,\n",
       "                  transformers=[(&#x27;scaler&#x27;, MinMaxScaler(),\n",
       "                                 [&#x27;price&#x27;, &#x27;available&#x27;, &#x27;sold&#x27;]),\n",
       "                                (&#x27;encoder&#x27;, OrdinalEncoder(),\n",
       "                                 [&#x27;Gender&#x27;, &#x27;season&#x27;]),\n",
       "                                (&#x27;onehot&#x27;,\n",
       "                                 OneHotEncoder(drop=&#x27;first&#x27;,\n",
       "                                               handle_unknown=&#x27;ignore&#x27;,\n",
       "                                               sparse_output=False),\n",
       "                                 [&#x27;jacket_type&#x27;])])</pre></div></div></div><div class=\"sk-parallel\"><div class=\"sk-parallel-item\"><div class=\"sk-item\"><div class=\"sk-label-container\"><div class=\"sk-label sk-toggleable\"><input class=\"sk-toggleable__control sk-hidden--visually\" id=\"sk-estimator-id-2\" type=\"checkbox\" ><label for=\"sk-estimator-id-2\" class=\"sk-toggleable__label sk-toggleable__label-arrow\">scaler</label><div class=\"sk-toggleable__content\"><pre>[&#x27;price&#x27;, &#x27;available&#x27;, &#x27;sold&#x27;]</pre></div></div></div><div class=\"sk-serial\"><div class=\"sk-item\"><div class=\"sk-estimator sk-toggleable\"><input class=\"sk-toggleable__control sk-hidden--visually\" id=\"sk-estimator-id-3\" type=\"checkbox\" ><label for=\"sk-estimator-id-3\" class=\"sk-toggleable__label sk-toggleable__label-arrow\">MinMaxScaler</label><div class=\"sk-toggleable__content\"><pre>MinMaxScaler()</pre></div></div></div></div></div></div><div class=\"sk-parallel-item\"><div class=\"sk-item\"><div class=\"sk-label-container\"><div class=\"sk-label sk-toggleable\"><input class=\"sk-toggleable__control sk-hidden--visually\" id=\"sk-estimator-id-4\" type=\"checkbox\" ><label for=\"sk-estimator-id-4\" class=\"sk-toggleable__label sk-toggleable__label-arrow\">encoder</label><div class=\"sk-toggleable__content\"><pre>[&#x27;Gender&#x27;, &#x27;season&#x27;]</pre></div></div></div><div class=\"sk-serial\"><div class=\"sk-item\"><div class=\"sk-estimator sk-toggleable\"><input class=\"sk-toggleable__control sk-hidden--visually\" id=\"sk-estimator-id-5\" type=\"checkbox\" ><label for=\"sk-estimator-id-5\" class=\"sk-toggleable__label sk-toggleable__label-arrow\">OrdinalEncoder</label><div class=\"sk-toggleable__content\"><pre>OrdinalEncoder()</pre></div></div></div></div></div></div><div class=\"sk-parallel-item\"><div class=\"sk-item\"><div class=\"sk-label-container\"><div class=\"sk-label sk-toggleable\"><input class=\"sk-toggleable__control sk-hidden--visually\" id=\"sk-estimator-id-6\" type=\"checkbox\" ><label for=\"sk-estimator-id-6\" class=\"sk-toggleable__label sk-toggleable__label-arrow\">onehot</label><div class=\"sk-toggleable__content\"><pre>[&#x27;jacket_type&#x27;]</pre></div></div></div><div class=\"sk-serial\"><div class=\"sk-item\"><div class=\"sk-estimator sk-toggleable\"><input class=\"sk-toggleable__control sk-hidden--visually\" id=\"sk-estimator-id-7\" type=\"checkbox\" ><label for=\"sk-estimator-id-7\" class=\"sk-toggleable__label sk-toggleable__label-arrow\">OneHotEncoder</label><div class=\"sk-toggleable__content\"><pre>OneHotEncoder(drop=&#x27;first&#x27;, handle_unknown=&#x27;ignore&#x27;, sparse_output=False)</pre></div></div></div></div></div></div><div class=\"sk-parallel-item\"><div class=\"sk-item\"><div class=\"sk-label-container\"><div class=\"sk-label sk-toggleable\"><input class=\"sk-toggleable__control sk-hidden--visually\" id=\"sk-estimator-id-8\" type=\"checkbox\" ><label for=\"sk-estimator-id-8\" class=\"sk-toggleable__label sk-toggleable__label-arrow\">remainder</label><div class=\"sk-toggleable__content\"><pre></pre></div></div></div><div class=\"sk-serial\"><div class=\"sk-item\"><div class=\"sk-estimator sk-toggleable\"><input class=\"sk-toggleable__control sk-hidden--visually\" id=\"sk-estimator-id-9\" type=\"checkbox\" ><label for=\"sk-estimator-id-9\" class=\"sk-toggleable__label sk-toggleable__label-arrow\">passthrough</label><div class=\"sk-toggleable__content\"><pre>passthrough</pre></div></div></div></div></div></div></div></div></div></div>"
      ],
      "text/plain": [
       "ColumnTransformer(remainder='passthrough', sparse_threshold=0,\n",
       "                  transformers=[('scaler', MinMaxScaler(),\n",
       "                                 ['price', 'available', 'sold']),\n",
       "                                ('encoder', OrdinalEncoder(),\n",
       "                                 ['Gender', 'season']),\n",
       "                                ('onehot',\n",
       "                                 OneHotEncoder(drop='first',\n",
       "                                               handle_unknown='ignore',\n",
       "                                               sparse_output=False),\n",
       "                                 ['jacket_type'])])"
      ]
     },
     "execution_count": 20,
     "metadata": {},
     "output_type": "execute_result"
    }
   ],
   "source": [
    "from sklearn.compose import ColumnTransformer\n",
    "from sklearn.impute import SimpleImputer\n",
    "from sklearn.preprocessing import OrdinalEncoder, OneHotEncoder\n",
    "from sklearn.preprocessing import MinMaxScaler\n",
    "from sklearn.feature_extraction.text import CountVectorizer\n",
    "\n",
    "ct = ColumnTransformer(transformers=[('scaler', MinMaxScaler(), ['price','available','sold']),\n",
    "                                     ('encoder', OrdinalEncoder(), ['Gender','season']),\n",
    "                                     ('onehot', OneHotEncoder(sparse_output=False, drop='first', handle_unknown='ignore'), ['jacket_type'])\n",
    "                                    ], remainder='passthrough', sparse_threshold=0)\n",
    "\n",
    "ct"
   ]
  },
  {
   "cell_type": "markdown",
   "id": "70481bb3-1466-49a1-9500-5bcbc772c537",
   "metadata": {},
   "source": [
    "#### Bag of Words"
   ]
  },
  {
   "cell_type": "code",
   "execution_count": 21,
   "id": "1187cf0b-e0b9-4fc3-be71-26440126f0e3",
   "metadata": {},
   "outputs": [],
   "source": [
    "cv = CountVectorizer(analyzer=analyzer)\n",
    "items = pd.DataFrame(cv.fit_transform(jackets['item']).toarray())"
   ]
  },
  {
   "cell_type": "markdown",
   "id": "b6811f5d-e36a-4e3f-96dc-88823b90651e",
   "metadata": {},
   "source": [
    "#### Preprocessed Data"
   ]
  },
  {
   "cell_type": "code",
   "execution_count": 22,
   "id": "5d1aeae7-6c5a-48f2-bc1e-992211a04362",
   "metadata": {},
   "outputs": [],
   "source": [
    "jackets = pd.concat([jackets.drop(columns=['item']), items], axis=1)"
   ]
  },
  {
   "cell_type": "markdown",
   "id": "f4b2405f-04b3-4dc2-ab7f-75f50df2a1ac",
   "metadata": {},
   "source": [
    "#### Remove Missing values"
   ]
  },
  {
   "cell_type": "code",
   "execution_count": 23,
   "id": "1206d1f8-ea89-4e22-aade-19950a71cb09",
   "metadata": {},
   "outputs": [],
   "source": [
    "jackets.dropna(inplace=True)\n",
    "jackets.reset_index(inplace=True)\n",
    "jackets.drop(columns='index', inplace=True)"
   ]
  },
  {
   "cell_type": "markdown",
   "id": "62f37546-d483-4cc8-9b35-08c27d241b2a",
   "metadata": {},
   "source": [
    "## Pipeline"
   ]
  },
  {
   "cell_type": "code",
   "execution_count": 26,
   "id": "8433ce5d-0858-4bbc-852a-41dba3e2f491",
   "metadata": {},
   "outputs": [],
   "source": [
    "from sklearn.pipeline import Pipeline\n",
    "from sklearn.cluster import DBSCAN\n",
    "\n",
    "pipe = Pipeline([('ct', ct), ('dbscan', DBSCAN(algorithm='brute',))])\n",
    "jackets.columns = jackets.columns.astype(str)"
   ]
  },
  {
   "cell_type": "markdown",
   "id": "db97cb24-a711-4183-a971-0f3cc769171c",
   "metadata": {},
   "source": [
    "#### Clusters Prediction"
   ]
  },
  {
   "cell_type": "code",
   "execution_count": 29,
   "id": "4e6f9fb6-b197-4328-947e-3ec4934afa2a",
   "metadata": {},
   "outputs": [],
   "source": [
    "clusters = pipe.fit_predict(jackets)"
   ]
  },
  {
   "cell_type": "markdown",
   "id": "d1949485-3fa8-4ab1-82f5-a8658ef20d37",
   "metadata": {},
   "source": [
    "## Plotting Clusters"
   ]
  },
  {
   "cell_type": "code",
   "execution_count": 30,
   "id": "f0e1cf4b-c975-4e98-bc6f-336d172886ea",
   "metadata": {},
   "outputs": [
    {
     "data": {
      "image/png": "[encoded data removed]",
      "text/plain": [
       "<Figure size 640x480 with 1 Axes>"
      ]
     },
     "metadata": {},
     "output_type": "display_data"
    }
   ],
   "source": [
    "sns.scatterplot(clusters)\n",
    "plt.show()"
   ]
  },
  {
   "cell_type": "code",
   "execution_count": null,
   "id": "cedb0ecc-9f11-4463-9953-754f7327d468",
   "metadata": {},
   "outputs": [],
   "source": []
  }
 ],
 "metadata": {
  "kernelspec": {
   "display_name": "Python 3 (ipykernel)",
   "language": "python",
   "name": "python3"
  },
  "language_info": {
   "codemirror_mode": {
    "name": "ipython",
    "version": 3
   },
   "file_extension": ".py",
   "mimetype": "text/x-python",
   "name": "python",
   "nbconvert_exporter": "python",
   "pygments_lexer": "ipython3",
   "version": "3.11.7"
  }
 },
 "nbformat": 4,
 "nbformat_minor": 5
}
