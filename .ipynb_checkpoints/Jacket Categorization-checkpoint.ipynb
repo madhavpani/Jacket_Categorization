{
 "cells": [
  {
   "cell_type": "markdown",
   "id": "9a06b0c0-c1ef-401b-a149-3d757b540e93",
   "metadata": {},
   "source": [
    "## Jacket Categorization"
   ]
  },
  {
   "cell_type": "markdown",
   "id": "3c77c7c1-cd7d-4bbe-9a33-8f5f440091cc",
   "metadata": {},
   "source": [
    "#### Importing Libraries"
   ]
  },
  {
   "cell_type": "code",
   "execution_count": 55,
   "id": "e315d030-1c2e-4017-8016-36a016e52568",
   "metadata": {},
   "outputs": [],
   "source": [
    "import pandas as pd\n",
    "import numpy as np\n",
    "import matplotlib.pyplot as plt\n",
    "import seaborn as sns"
   ]
  },
  {
   "cell_type": "markdown",
   "id": "efcfd50b-4681-4580-afb3-2be0bb2f8ea5",
   "metadata": {},
   "source": [
    "#### Importing Dataset"
   ]
  },
  {
   "cell_type": "code",
   "execution_count": 56,
   "id": "cec253bb-b1f8-46bf-b608-5e4647d5448b",
   "metadata": {},
   "outputs": [
    {
     "data": {
      "text/html": [
       "<div>\n",
       "<style scoped>\n",
       "    .dataframe tbody tr th:only-of-type {\n",
       "        vertical-align: middle;\n",
       "    }\n",
       "\n",
       "    .dataframe tbody tr th {\n",
       "        vertical-align: top;\n",
       "    }\n",
       "\n",
       "    .dataframe thead th {\n",
       "        text-align: right;\n",
       "    }\n",
       "</style>\n",
       "<table border=\"1\" class=\"dataframe\">\n",
       "  <thead>\n",
       "    <tr style=\"text-align: right;\">\n",
       "      <th></th>\n",
       "      <th>title</th>\n",
       "      <th>type</th>\n",
       "      <th>priceWithCurrency</th>\n",
       "      <th>lastUpdated</th>\n",
       "      <th>availableText</th>\n",
       "      <th>itemLocation</th>\n",
       "    </tr>\n",
       "  </thead>\n",
       "  <tbody>\n",
       "    <tr>\n",
       "      <th>0</th>\n",
       "      <td>XIYUER Women's down jacket Short 90% duck down...</td>\n",
       "      <td>Coat</td>\n",
       "      <td>US $229.00</td>\n",
       "      <td>Oct 16, 2024 09:26:58 PDT</td>\n",
       "      <td>10 available</td>\n",
       "      <td>NaN</td>\n",
       "    </tr>\n",
       "    <tr>\n",
       "      <th>1</th>\n",
       "      <td>Reebok Men's Softshell Jacket</td>\n",
       "      <td>NaN</td>\n",
       "      <td>US $40.00</td>\n",
       "      <td>NaN</td>\n",
       "      <td>5 available</td>\n",
       "      <td>Hurst, Texas, United States</td>\n",
       "    </tr>\n",
       "    <tr>\n",
       "      <th>2</th>\n",
       "      <td>Mens Fleece Jacket Soft Plush Zip Up Fall Wint...</td>\n",
       "      <td>Jacket</td>\n",
       "      <td>US $14.99/ea</td>\n",
       "      <td>Oct 16, 2024 12:16:32 PDT</td>\n",
       "      <td>4 available</td>\n",
       "      <td>Alviso, California, United States</td>\n",
       "    </tr>\n",
       "  </tbody>\n",
       "</table>\n",
       "</div>"
      ],
      "text/plain": [
       "                                               title    type  \\\n",
       "0  XIYUER Women's down jacket Short 90% duck down...    Coat   \n",
       "1                      Reebok Men's Softshell Jacket     NaN   \n",
       "2  Mens Fleece Jacket Soft Plush Zip Up Fall Wint...  Jacket   \n",
       "\n",
       "  priceWithCurrency                lastUpdated availableText  \\\n",
       "0        US $229.00  Oct 16, 2024 09:26:58 PDT  10 available   \n",
       "1         US $40.00                        NaN   5 available   \n",
       "2      US $14.99/ea  Oct 16, 2024 12:16:32 PDT   4 available   \n",
       "\n",
       "                        itemLocation  \n",
       "0                                NaN  \n",
       "1        Hurst, Texas, United States  \n",
       "2  Alviso, California, United States  "
      ]
     },
     "execution_count": 56,
     "metadata": {},
     "output_type": "execute_result"
    }
   ],
   "source": [
    "jackets = pd.read_csv('winterjacket.csv')\n",
    "jackets.head(3)"
   ]
  },
  {
   "cell_type": "markdown",
   "id": "69809791-106c-4123-aae4-426c989cb0b2",
   "metadata": {},
   "source": [
    "### Data Cleaning"
   ]
  },
  {
   "cell_type": "markdown",
   "id": "97a8abb8-f894-4f1b-bec4-6da8f553961d",
   "metadata": {},
   "source": [
    "#### Rename Columns"
   ]
  },
  {
   "cell_type": "code",
   "execution_count": 57,
   "id": "1480423f-84cd-47aa-8a1c-749d162a1169",
   "metadata": {},
   "outputs": [],
   "source": [
    "jackets.rename(columns={'title':'item', 'type':'jacket_type', 'priceWithCurrency':'price', 'lastUpdated':'season', 'availableText':'available and Sold'}, inplace=True)"
   ]
  },
  {
   "cell_type": "markdown",
   "id": "d626b3de-1681-4d43-98b3-0821a44d98b5",
   "metadata": {},
   "source": [
    "#### Duplicates Removal"
   ]
  },
  {
   "cell_type": "code",
   "execution_count": 58,
   "id": "c22cef24-5d75-4e57-aaae-3ecdab5cf961",
   "metadata": {},
   "outputs": [
    {
     "data": {
      "text/plain": [
       "1"
      ]
     },
     "execution_count": 58,
     "metadata": {},
     "output_type": "execute_result"
    }
   ],
   "source": [
    "jackets.duplicated().sum()"
   ]
  },
  {
   "cell_type": "code",
   "execution_count": 59,
   "id": "8b6d079f-1842-4e95-850f-a6e9e0d296e9",
   "metadata": {},
   "outputs": [],
   "source": [
    "jackets.drop_duplicates(inplace=True)"
   ]
  },
  {
   "cell_type": "markdown",
   "id": "9663b793-8343-4b93-849f-dfe76247663e",
   "metadata": {},
   "source": [
    "#### Drop Unwanted Columns"
   ]
  },
  {
   "cell_type": "code",
   "execution_count": 60,
   "id": "e5c7f9b0-17f0-4bd9-9e96-c2dc07fb1127",
   "metadata": {},
   "outputs": [],
   "source": [
    "jackets.drop(columns='itemLocation', inplace=True)"
   ]
  },
  {
   "cell_type": "markdown",
   "id": "e28095b4-4431-4e2b-bffd-78fd02f24cf8",
   "metadata": {},
   "source": [
    "#### Missing Values"
   ]
  },
  {
   "cell_type": "code",
   "execution_count": 61,
   "id": "a057a8f9-7cc0-42ae-8ad2-f5e8eda145ee",
   "metadata": {},
   "outputs": [
    {
     "data": {
      "text/plain": [
       "item                    1\n",
       "jacket_type            19\n",
       "price                   1\n",
       "season                316\n",
       "available and Sold    190\n",
       "dtype: int64"
      ]
     },
     "execution_count": 61,
     "metadata": {},
     "output_type": "execute_result"
    }
   ],
   "source": [
    "jackets.isnull().sum()"
   ]
  },
  {
   "cell_type": "code",
   "execution_count": 62,
   "id": "e4c2d5c4-2d6c-4cac-9115-7a6dc5c7cbdc",
   "metadata": {},
   "outputs": [],
   "source": [
    "jackets.dropna(subset=['item','price'],inplace=True)"
   ]
  },
  {
   "cell_type": "markdown",
   "id": "43b8aaf9-49c0-4a66-bab9-8d324707eed8",
   "metadata": {},
   "source": [
    "#### Data Generation"
   ]
  },
  {
   "cell_type": "code",
   "execution_count": 63,
   "id": "ebfd18d2-9ffe-448a-8d1f-7ec35cbed3bf",
   "metadata": {},
   "outputs": [],
   "source": [
    "from nltk.tokenize import word_tokenize\n",
    "\n",
    "# lets, write a function which finds either men or women form the title\n",
    "def find_gender(text):\n",
    "    tokens = word_tokenize(text.lower())\n",
    "    for i in tokens:\n",
    "        if i == 'men' or i == 'mens':\n",
    "            gender = 'Male'\n",
    "            break\n",
    "        elif i == 'women' or i == 'womens':\n",
    "            gender = 'Female'\n",
    "            break\n",
    "        else:\n",
    "            gender = 'both'\n",
    "            break\n",
    "    return gender"
   ]
  },
  {
   "cell_type": "code",
   "execution_count": 64,
   "id": "cf9e3d31-8064-4819-8a44-6b5d9f1fdfa0",
   "metadata": {},
   "outputs": [],
   "source": [
    "# lets, find out whether the winter jacket is for men or women\n",
    "jackets['Gender'] = jackets['item'].apply(find_gender)"
   ]
  },
  {
   "cell_type": "code",
   "execution_count": 65,
   "id": "328a937c-c1af-4f8d-b980-ad4f9bb04332",
   "metadata": {},
   "outputs": [],
   "source": [
    "import re\n",
    "# lets, create a function which converts price into rupees\n",
    "def price_in_rupee(text):\n",
    "    if text.startswith('US'):\n",
    "        dollars = re.findall(r'[0-9]+.[0-9]{2}', text)[0]\n",
    "        if ',' in dollars:\n",
    "            dollars = dollars.replace(',','')\n",
    "        return np.round(float(dollars) * 84.0912,2)\n",
    "    elif text.startswith('GBP'):\n",
    "        gbp = re.findall(r'[0-9]+.[0-9]{2}', text)[0]\n",
    "        if ',' in gbp:\n",
    "            gbp = gbp.replace(',','')\n",
    "        return np.round(float(gbp) * 109.0627, 2)\n",
    "    elif text.startswith('AU'):\n",
    "        au = re.findall(r'[0-9]+.[0-9]{2}', text)[0]\n",
    "        if ',' in au:\n",
    "            au = au.replace(',','')\n",
    "        return np.round(float(au) * 55.333, 2)\n",
    "    elif text.startswith('EUR'):\n",
    "        eur = re.findall(r'[0-9]+.[0-9]{2}', text)[0]\n",
    "        if ',' in eur:\n",
    "            eur = eur.replace(',','')\n",
    "        return np.round(float(eur) * 90.9521, 2)\n",
    "    elif text.startswith('C'):\n",
    "        cad = re.findall(r'[0-9]+.[0-9]{2}', text)[0]\n",
    "        if ',' in cad:\n",
    "            cad = cad.replace(',','')\n",
    "        return np.round(float(cad) * 60.5428, 2)"
   ]
  },
  {
   "cell_type": "code",
   "execution_count": 66,
   "id": "7c72e132-910b-4d9c-9c5e-e914b741c3b1",
   "metadata": {},
   "outputs": [],
   "source": [
    "jackets['price'] = jackets['price'].apply(price_in_rupee)"
   ]
  },
  {
   "cell_type": "code",
   "execution_count": 67,
   "id": "704bcee9-0cf1-4a7b-9915-91419950bbd4",
   "metadata": {},
   "outputs": [],
   "source": [
    "def find_season(date):\n",
    "    if str(date).endswith('PDT'):\n",
    "        season = 'Summer'\n",
    "    elif str(date).endswith('PST'):\n",
    "        season = 'Winter'\n",
    "    else:\n",
    "        season = 'both'\n",
    "    return season"
   ]
  },
  {
   "cell_type": "code",
   "execution_count": 68,
   "id": "6e4b6399-c8ca-46c3-a659-d79b48119758",
   "metadata": {},
   "outputs": [],
   "source": [
    "jackets['season'] = jackets['season'].apply(find_season)"
   ]
  },
  {
   "cell_type": "code",
   "execution_count": 69,
   "id": "d982fe4f-04a7-4791-8e08-27ba1931f473",
   "metadata": {},
   "outputs": [],
   "source": [
    "jackets['available and Sold'].fillna('0 available0 sold', inplace=True)"
   ]
  },
  {
   "cell_type": "code",
   "execution_count": 70,
   "id": "4a6893f0-8cce-4d4b-aaa4-fc79b86c108d",
   "metadata": {},
   "outputs": [],
   "source": [
    "# lets, create a function which seperates the available jackets and sold out jackets\n",
    "def find_quantity(text):\n",
    "    data = [i.strip() for i in re.split('[0-9]+', text)]\n",
    "    quantity = re.findall('[0-9]+', text)    \n",
    "    \n",
    "    if 'Last one' in data:\n",
    "        available = 1\n",
    "        if 'sold' in data:\n",
    "            sold = int(quantity[0])\n",
    "        else:\n",
    "            sold = 0\n",
    "    elif 'sold' not in data:\n",
    "        available = int(quantity[0])\n",
    "        sold = 0\n",
    "    elif 'available' not in data:\n",
    "        available = 0\n",
    "        sold = int(quantity[0])\n",
    "    elif 'More than' in data:\n",
    "        available = np.random.randint(10, 20)\n",
    "        sold = int(''.join(quantity[1:]))\n",
    "    else:\n",
    "        available = quantity[0]\n",
    "        sold = int(''.join(quantity[1:]))\n",
    "    return available, sold"
   ]
  },
  {
   "cell_type": "code",
   "execution_count": 71,
   "id": "d6cc80bc-3fee-4d1e-9fce-fc11a5a2685e",
   "metadata": {},
   "outputs": [],
   "source": [
    "jackets['available and Sold'] = jackets['available and Sold'].apply(find_quantity)\n",
    "jackets['available'] = jackets['available and Sold'].apply(lambda x: x[0])\n",
    "jackets['sold'] = jackets['available and Sold'].apply(lambda x: x[1])"
   ]
  },
  {
   "cell_type": "code",
   "execution_count": 72,
   "id": "66f6b477-5195-4485-aed9-00d7149b3434",
   "metadata": {},
   "outputs": [
    {
     "data": {
      "text/html": [
       "<div>\n",
       "<style scoped>\n",
       "    .dataframe tbody tr th:only-of-type {\n",
       "        vertical-align: middle;\n",
       "    }\n",
       "\n",
       "    .dataframe tbody tr th {\n",
       "        vertical-align: top;\n",
       "    }\n",
       "\n",
       "    .dataframe thead th {\n",
       "        text-align: right;\n",
       "    }\n",
       "</style>\n",
       "<table border=\"1\" class=\"dataframe\">\n",
       "  <thead>\n",
       "    <tr style=\"text-align: right;\">\n",
       "      <th></th>\n",
       "      <th>item</th>\n",
       "      <th>jacket_type</th>\n",
       "      <th>price</th>\n",
       "      <th>season</th>\n",
       "      <th>available and Sold</th>\n",
       "      <th>Gender</th>\n",
       "      <th>available</th>\n",
       "      <th>sold</th>\n",
       "    </tr>\n",
       "  </thead>\n",
       "  <tbody>\n",
       "    <tr>\n",
       "      <th>0</th>\n",
       "      <td>XIYUER Women's down jacket Short 90% duck down...</td>\n",
       "      <td>Coat</td>\n",
       "      <td>19256.88</td>\n",
       "      <td>Summer</td>\n",
       "      <td>(10, 0)</td>\n",
       "      <td>both</td>\n",
       "      <td>10</td>\n",
       "      <td>0</td>\n",
       "    </tr>\n",
       "    <tr>\n",
       "      <th>1</th>\n",
       "      <td>Reebok Men's Softshell Jacket</td>\n",
       "      <td>NaN</td>\n",
       "      <td>3363.65</td>\n",
       "      <td>both</td>\n",
       "      <td>(5, 0)</td>\n",
       "      <td>both</td>\n",
       "      <td>5</td>\n",
       "      <td>0</td>\n",
       "    </tr>\n",
       "    <tr>\n",
       "      <th>2</th>\n",
       "      <td>Mens Fleece Jacket Soft Plush Zip Up Fall Wint...</td>\n",
       "      <td>Jacket</td>\n",
       "      <td>1260.53</td>\n",
       "      <td>Summer</td>\n",
       "      <td>(4, 0)</td>\n",
       "      <td>Male</td>\n",
       "      <td>4</td>\n",
       "      <td>0</td>\n",
       "    </tr>\n",
       "    <tr>\n",
       "      <th>3</th>\n",
       "      <td>Men's Casual Padded Jacket Winter Warm Hooded ...</td>\n",
       "      <td>Jacket</td>\n",
       "      <td>3012.99</td>\n",
       "      <td>Summer</td>\n",
       "      <td>(3, 30)</td>\n",
       "      <td>Male</td>\n",
       "      <td>3</td>\n",
       "      <td>30</td>\n",
       "    </tr>\n",
       "    <tr>\n",
       "      <th>4</th>\n",
       "      <td>Men's Casual Padded Jacket Winter Warm Hooded ...</td>\n",
       "      <td>Jacket</td>\n",
       "      <td>3012.99</td>\n",
       "      <td>both</td>\n",
       "      <td>(1, 8)</td>\n",
       "      <td>Male</td>\n",
       "      <td>1</td>\n",
       "      <td>8</td>\n",
       "    </tr>\n",
       "  </tbody>\n",
       "</table>\n",
       "</div>"
      ],
      "text/plain": [
       "                                                item jacket_type     price  \\\n",
       "0  XIYUER Women's down jacket Short 90% duck down...        Coat  19256.88   \n",
       "1                      Reebok Men's Softshell Jacket         NaN   3363.65   \n",
       "2  Mens Fleece Jacket Soft Plush Zip Up Fall Wint...      Jacket   1260.53   \n",
       "3  Men's Casual Padded Jacket Winter Warm Hooded ...      Jacket   3012.99   \n",
       "4  Men's Casual Padded Jacket Winter Warm Hooded ...      Jacket   3012.99   \n",
       "\n",
       "   season available and Sold Gender available  sold  \n",
       "0  Summer            (10, 0)   both        10     0  \n",
       "1    both             (5, 0)   both         5     0  \n",
       "2  Summer             (4, 0)   Male         4     0  \n",
       "3  Summer            (3, 30)   Male         3    30  \n",
       "4    both             (1, 8)   Male         1     8  "
      ]
     },
     "execution_count": 72,
     "metadata": {},
     "output_type": "execute_result"
    }
   ],
   "source": [
    "jackets.head()"
   ]
  },
  {
   "cell_type": "code",
   "execution_count": 73,
   "id": "00ab733b-4477-4fcc-b1ae-80e5174d862f",
   "metadata": {},
   "outputs": [
    {
     "name": "stdout",
     "output_type": "stream",
     "text": [
      "<class 'pandas.core.frame.DataFrame'>\n",
      "Index: 1998 entries, 0 to 1998\n",
      "Data columns (total 8 columns):\n",
      " #   Column              Non-Null Count  Dtype  \n",
      "---  ------              --------------  -----  \n",
      " 0   item                1998 non-null   object \n",
      " 1   jacket_type         1980 non-null   object \n",
      " 2   price               1998 non-null   float64\n",
      " 3   season              1998 non-null   object \n",
      " 4   available and Sold  1998 non-null   object \n",
      " 5   Gender              1998 non-null   object \n",
      " 6   available           1998 non-null   object \n",
      " 7   sold                1998 non-null   int64  \n",
      "dtypes: float64(1), int64(1), object(6)\n",
      "memory usage: 140.5+ KB\n"
     ]
    }
   ],
   "source": [
    "jackets.info()"
   ]
  },
  {
   "cell_type": "code",
   "execution_count": 74,
   "id": "7511e145-e9ea-4450-9bbd-12bf1270bd43",
   "metadata": {},
   "outputs": [],
   "source": [
    "jackets.drop(columns='available and Sold', inplace=True)"
   ]
  },
  {
   "cell_type": "code",
   "execution_count": 75,
   "id": "3336bb2f-f0af-401e-8060-44426556ed9f",
   "metadata": {},
   "outputs": [],
   "source": [
    "# lets, create an analyzer to do BOW\n",
    "import string\n",
    "from nltk.corpus import stopwords\n",
    "from nltk.stem import PorterStemmer\n",
    "ps = PorterStemmer()\n",
    "stop_words = set(stopwords.words('english'))\n",
    "\n",
    "def analyzer(text):\n",
    "    puncts_removed = ''.join([i.lower() for i in text if i not in string.punctuation])\n",
    "    return ' '.join([ps.stem(token) for token in word_tokenize(puncts_removed) if token not in stop_words and not token.isnumeric()])"
   ]
  },
  {
   "cell_type": "code",
   "execution_count": 76,
   "id": "60683898-0930-4865-9c9f-33f177dc7081",
   "metadata": {},
   "outputs": [
    {
     "data": {
      "text/html": [
       "<style>#sk-container-id-3 {color: black;background-color: white;}#sk-container-id-3 pre{padding: 0;}#sk-container-id-3 div.sk-toggleable {background-color: white;}#sk-container-id-3 label.sk-toggleable__label {cursor: pointer;display: block;width: 100%;margin-bottom: 0;padding: 0.3em;box-sizing: border-box;text-align: center;}#sk-container-id-3 label.sk-toggleable__label-arrow:before {content: \"▸\";float: left;margin-right: 0.25em;color: #696969;}#sk-container-id-3 label.sk-toggleable__label-arrow:hover:before {color: black;}#sk-container-id-3 div.sk-estimator:hover label.sk-toggleable__label-arrow:before {color: black;}#sk-container-id-3 div.sk-toggleable__content {max-height: 0;max-width: 0;overflow: hidden;text-align: left;background-color: #f0f8ff;}#sk-container-id-3 div.sk-toggleable__content pre {margin: 0.2em;color: black;border-radius: 0.25em;background-color: #f0f8ff;}#sk-container-id-3 input.sk-toggleable__control:checked~div.sk-toggleable__content {max-height: 200px;max-width: 100%;overflow: auto;}#sk-container-id-3 input.sk-toggleable__control:checked~label.sk-toggleable__label-arrow:before {content: \"▾\";}#sk-container-id-3 div.sk-estimator input.sk-toggleable__control:checked~label.sk-toggleable__label {background-color: #d4ebff;}#sk-container-id-3 div.sk-label input.sk-toggleable__control:checked~label.sk-toggleable__label {background-color: #d4ebff;}#sk-container-id-3 input.sk-hidden--visually {border: 0;clip: rect(1px 1px 1px 1px);clip: rect(1px, 1px, 1px, 1px);height: 1px;margin: -1px;overflow: hidden;padding: 0;position: absolute;width: 1px;}#sk-container-id-3 div.sk-estimator {font-family: monospace;background-color: #f0f8ff;border: 1px dotted black;border-radius: 0.25em;box-sizing: border-box;margin-bottom: 0.5em;}#sk-container-id-3 div.sk-estimator:hover {background-color: #d4ebff;}#sk-container-id-3 div.sk-parallel-item::after {content: \"\";width: 100%;border-bottom: 1px solid gray;flex-grow: 1;}#sk-container-id-3 div.sk-label:hover label.sk-toggleable__label {background-color: #d4ebff;}#sk-container-id-3 div.sk-serial::before {content: \"\";position: absolute;border-left: 1px solid gray;box-sizing: border-box;top: 0;bottom: 0;left: 50%;z-index: 0;}#sk-container-id-3 div.sk-serial {display: flex;flex-direction: column;align-items: center;background-color: white;padding-right: 0.2em;padding-left: 0.2em;position: relative;}#sk-container-id-3 div.sk-item {position: relative;z-index: 1;}#sk-container-id-3 div.sk-parallel {display: flex;align-items: stretch;justify-content: center;background-color: white;position: relative;}#sk-container-id-3 div.sk-item::before, #sk-container-id-3 div.sk-parallel-item::before {content: \"\";position: absolute;border-left: 1px solid gray;box-sizing: border-box;top: 0;bottom: 0;left: 50%;z-index: -1;}#sk-container-id-3 div.sk-parallel-item {display: flex;flex-direction: column;z-index: 1;position: relative;background-color: white;}#sk-container-id-3 div.sk-parallel-item:first-child::after {align-self: flex-end;width: 50%;}#sk-container-id-3 div.sk-parallel-item:last-child::after {align-self: flex-start;width: 50%;}#sk-container-id-3 div.sk-parallel-item:only-child::after {width: 0;}#sk-container-id-3 div.sk-dashed-wrapped {border: 1px dashed gray;margin: 0 0.4em 0.5em 0.4em;box-sizing: border-box;padding-bottom: 0.4em;background-color: white;}#sk-container-id-3 div.sk-label label {font-family: monospace;font-weight: bold;display: inline-block;line-height: 1.2em;}#sk-container-id-3 div.sk-label-container {text-align: center;}#sk-container-id-3 div.sk-container {/* jupyter's `normalize.less` sets `[hidden] { display: none; }` but bootstrap.min.css set `[hidden] { display: none !important; }` so we also need the `!important` here to be able to override the default hidden behavior on the sphinx rendered scikit-learn.org. See: https://github.com/scikit-learn/scikit-learn/issues/21755 */display: inline-block !important;position: relative;}#sk-container-id-3 div.sk-text-repr-fallback {display: none;}</style><div id=\"sk-container-id-3\" class=\"sk-top-container\"><div class=\"sk-text-repr-fallback\"><pre>ColumnTransformer(remainder=&#x27;passthrough&#x27;, sparse_threshold=0,\n",
       "                  transformers=[(&#x27;scaler&#x27;, MinMaxScaler(),\n",
       "                                 [&#x27;price&#x27;, &#x27;available&#x27;, &#x27;sold&#x27;]),\n",
       "                                (&#x27;encoder&#x27;, OrdinalEncoder(),\n",
       "                                 [&#x27;Gender&#x27;, &#x27;season&#x27;]),\n",
       "                                (&#x27;onehot&#x27;,\n",
       "                                 OneHotEncoder(drop=&#x27;first&#x27;,\n",
       "                                               handle_unknown=&#x27;ignore&#x27;,\n",
       "                                               sparse_output=False),\n",
       "                                 [&#x27;jacket_type&#x27;])])</pre><b>In a Jupyter environment, please rerun this cell to show the HTML representation or trust the notebook. <br />On GitHub, the HTML representation is unable to render, please try loading this page with nbviewer.org.</b></div><div class=\"sk-container\" hidden><div class=\"sk-item sk-dashed-wrapped\"><div class=\"sk-label-container\"><div class=\"sk-label sk-toggleable\"><input class=\"sk-toggleable__control sk-hidden--visually\" id=\"sk-estimator-id-19\" type=\"checkbox\" ><label for=\"sk-estimator-id-19\" class=\"sk-toggleable__label sk-toggleable__label-arrow\">ColumnTransformer</label><div class=\"sk-toggleable__content\"><pre>ColumnTransformer(remainder=&#x27;passthrough&#x27;, sparse_threshold=0,\n",
       "                  transformers=[(&#x27;scaler&#x27;, MinMaxScaler(),\n",
       "                                 [&#x27;price&#x27;, &#x27;available&#x27;, &#x27;sold&#x27;]),\n",
       "                                (&#x27;encoder&#x27;, OrdinalEncoder(),\n",
       "                                 [&#x27;Gender&#x27;, &#x27;season&#x27;]),\n",
       "                                (&#x27;onehot&#x27;,\n",
       "                                 OneHotEncoder(drop=&#x27;first&#x27;,\n",
       "                                               handle_unknown=&#x27;ignore&#x27;,\n",
       "                                               sparse_output=False),\n",
       "                                 [&#x27;jacket_type&#x27;])])</pre></div></div></div><div class=\"sk-parallel\"><div class=\"sk-parallel-item\"><div class=\"sk-item\"><div class=\"sk-label-container\"><div class=\"sk-label sk-toggleable\"><input class=\"sk-toggleable__control sk-hidden--visually\" id=\"sk-estimator-id-20\" type=\"checkbox\" ><label for=\"sk-estimator-id-20\" class=\"sk-toggleable__label sk-toggleable__label-arrow\">scaler</label><div class=\"sk-toggleable__content\"><pre>[&#x27;price&#x27;, &#x27;available&#x27;, &#x27;sold&#x27;]</pre></div></div></div><div class=\"sk-serial\"><div class=\"sk-item\"><div class=\"sk-estimator sk-toggleable\"><input class=\"sk-toggleable__control sk-hidden--visually\" id=\"sk-estimator-id-21\" type=\"checkbox\" ><label for=\"sk-estimator-id-21\" class=\"sk-toggleable__label sk-toggleable__label-arrow\">MinMaxScaler</label><div class=\"sk-toggleable__content\"><pre>MinMaxScaler()</pre></div></div></div></div></div></div><div class=\"sk-parallel-item\"><div class=\"sk-item\"><div class=\"sk-label-container\"><div class=\"sk-label sk-toggleable\"><input class=\"sk-toggleable__control sk-hidden--visually\" id=\"sk-estimator-id-22\" type=\"checkbox\" ><label for=\"sk-estimator-id-22\" class=\"sk-toggleable__label sk-toggleable__label-arrow\">encoder</label><div class=\"sk-toggleable__content\"><pre>[&#x27;Gender&#x27;, &#x27;season&#x27;]</pre></div></div></div><div class=\"sk-serial\"><div class=\"sk-item\"><div class=\"sk-estimator sk-toggleable\"><input class=\"sk-toggleable__control sk-hidden--visually\" id=\"sk-estimator-id-23\" type=\"checkbox\" ><label for=\"sk-estimator-id-23\" class=\"sk-toggleable__label sk-toggleable__label-arrow\">OrdinalEncoder</label><div class=\"sk-toggleable__content\"><pre>OrdinalEncoder()</pre></div></div></div></div></div></div><div class=\"sk-parallel-item\"><div class=\"sk-item\"><div class=\"sk-label-container\"><div class=\"sk-label sk-toggleable\"><input class=\"sk-toggleable__control sk-hidden--visually\" id=\"sk-estimator-id-24\" type=\"checkbox\" ><label for=\"sk-estimator-id-24\" class=\"sk-toggleable__label sk-toggleable__label-arrow\">onehot</label><div class=\"sk-toggleable__content\"><pre>[&#x27;jacket_type&#x27;]</pre></div></div></div><div class=\"sk-serial\"><div class=\"sk-item\"><div class=\"sk-estimator sk-toggleable\"><input class=\"sk-toggleable__control sk-hidden--visually\" id=\"sk-estimator-id-25\" type=\"checkbox\" ><label for=\"sk-estimator-id-25\" class=\"sk-toggleable__label sk-toggleable__label-arrow\">OneHotEncoder</label><div class=\"sk-toggleable__content\"><pre>OneHotEncoder(drop=&#x27;first&#x27;, handle_unknown=&#x27;ignore&#x27;, sparse_output=False)</pre></div></div></div></div></div></div><div class=\"sk-parallel-item\"><div class=\"sk-item\"><div class=\"sk-label-container\"><div class=\"sk-label sk-toggleable\"><input class=\"sk-toggleable__control sk-hidden--visually\" id=\"sk-estimator-id-26\" type=\"checkbox\" ><label for=\"sk-estimator-id-26\" class=\"sk-toggleable__label sk-toggleable__label-arrow\">remainder</label><div class=\"sk-toggleable__content\"><pre></pre></div></div></div><div class=\"sk-serial\"><div class=\"sk-item\"><div class=\"sk-estimator sk-toggleable\"><input class=\"sk-toggleable__control sk-hidden--visually\" id=\"sk-estimator-id-27\" type=\"checkbox\" ><label for=\"sk-estimator-id-27\" class=\"sk-toggleable__label sk-toggleable__label-arrow\">passthrough</label><div class=\"sk-toggleable__content\"><pre>passthrough</pre></div></div></div></div></div></div></div></div></div></div>"
      ],
      "text/plain": [
       "ColumnTransformer(remainder='passthrough', sparse_threshold=0,\n",
       "                  transformers=[('scaler', MinMaxScaler(),\n",
       "                                 ['price', 'available', 'sold']),\n",
       "                                ('encoder', OrdinalEncoder(),\n",
       "                                 ['Gender', 'season']),\n",
       "                                ('onehot',\n",
       "                                 OneHotEncoder(drop='first',\n",
       "                                               handle_unknown='ignore',\n",
       "                                               sparse_output=False),\n",
       "                                 ['jacket_type'])])"
      ]
     },
     "execution_count": 76,
     "metadata": {},
     "output_type": "execute_result"
    }
   ],
   "source": [
    "from sklearn.compose import ColumnTransformer\n",
    "from sklearn.impute import SimpleImputer\n",
    "from sklearn.preprocessing import OrdinalEncoder, OneHotEncoder\n",
    "from sklearn.preprocessing import MinMaxScaler\n",
    "from sklearn.feature_extraction.text import CountVectorizer\n",
    "\n",
    "ct = ColumnTransformer(transformers=[('scaler', MinMaxScaler(), ['price','available','sold']),\n",
    "                                     ('encoder', OrdinalEncoder(), ['Gender','season']),\n",
    "                                     ('onehot', OneHotEncoder(sparse_output=False, drop='first', handle_unknown='ignore'), ['jacket_type'])\n",
    "                                    ], remainder='passthrough', sparse_threshold=0)\n",
    "\n",
    "ct"
   ]
  },
  {
   "cell_type": "code",
   "execution_count": 77,
   "id": "623a3d85-5b1f-4bb2-ac77-a0dbb23e79dc",
   "metadata": {},
   "outputs": [],
   "source": [
    "cv = CountVectorizer(analyzer=analyzer)\n",
    "items = pd.DataFrame(cv.fit_transform(jackets['item']).toarray())"
   ]
  },
  {
   "cell_type": "code",
   "execution_count": 78,
   "id": "3c9becb5-f36f-42d4-9579-0e84c81fec59",
   "metadata": {},
   "outputs": [],
   "source": [
    "jackets = pd.concat([jackets.drop(columns=['item']), items], axis=1)"
   ]
  },
  {
   "cell_type": "code",
   "execution_count": 85,
   "id": "057a75d1-34e0-457a-849d-a7bdfa59fed0",
   "metadata": {},
   "outputs": [],
   "source": [
    "jackets.dropna(inplace=True)"
   ]
  },
  {
   "cell_type": "code",
   "execution_count": 86,
   "id": "2729f316-feb0-46b0-85bb-e48a1d962b41",
   "metadata": {},
   "outputs": [],
   "source": [
    "jackets.reset_index(inplace=True)"
   ]
  },
  {
   "cell_type": "code",
   "execution_count": 87,
   "id": "e803588f-851c-4f87-a89a-7089865bad07",
   "metadata": {},
   "outputs": [],
   "source": [
    "jackets.drop(columns='index', inplace=True)"
   ]
  },
  {
   "cell_type": "code",
   "execution_count": 88,
   "id": "92f556ed-e4c1-47a0-b012-1d0efe5f35ea",
   "metadata": {},
   "outputs": [],
   "source": [
    "from sklearn.pipeline import Pipeline\n",
    "from sklearn.cluster import DBSCAN\n",
    "\n",
    "pipe = Pipeline([('ct', ct), ('dbscan', DBSCAN(algorithm='brute',))])\n",
    "jackets.columns = jackets.columns.astype(str)\n",
    "clusters = pipe.fit_predict(jackets)"
   ]
  },
  {
   "cell_type": "code",
   "execution_count": 89,
   "id": "c656f15f-f220-42c5-b7cd-15347d0e4f38",
   "metadata": {},
   "outputs": [
    {
     "data": {
      "text/plain": [
       "(1979, 77)"
      ]
     },
     "execution_count": 89,
     "metadata": {},
     "output_type": "execute_result"
    }
   ],
   "source": [
    "jackets.shape"
   ]
  },
  {
   "cell_type": "code",
   "execution_count": null,
   "id": "7b202e93-06a0-4ac6-88fc-9a6e3cd4f49b",
   "metadata": {},
   "outputs": [],
   "source": [
    "sns.scatterplot(clusters, palette='Set1', hue = clusters)\n",
    "plt.show()"
   ]
  },
  {
   "cell_type": "code",
   "execution_count": 98,
   "id": "878b6849-e110-4a4f-b5ef-987ff411b1c7",
   "metadata": {},
   "outputs": [
    {
     "data": {
      "text/plain": [
       "77"
      ]
     },
     "execution_count": 98,
     "metadata": {},
     "output_type": "execute_result"
    }
   ],
   "source": [
    "pipe.n_features_in_"
   ]
  },
  {
   "cell_type": "code",
   "execution_count": 106,
   "id": "ff54cda8-e08b-4f6b-a569-8f5a9e72dda4",
   "metadata": {},
   "outputs": [
    {
     "data": {
      "text/plain": [
       "array([   2,    7,   39,   54,   56,   72,   88,  140,  506,  812, 1066,\n",
       "       1192, 1320, 1395, 1733], dtype=int64)"
      ]
     },
     "execution_count": 106,
     "metadata": {},
     "output_type": "execute_result"
    }
   ],
   "source": [
    "pipe.named_steps['dbscan'].core_sample_indices_"
   ]
  },
  {
   "cell_type": "code",
   "execution_count": null,
   "id": "c3854ce7-b8d1-43c8-8eeb-29241f3a4d0d",
   "metadata": {},
   "outputs": [],
   "source": []
  }
 ],
 "metadata": {
  "kernelspec": {
   "display_name": "Python 3 (ipykernel)",
   "language": "python",
   "name": "python3"
  },
  "language_info": {
   "codemirror_mode": {
    "name": "ipython",
    "version": 3
   },
   "file_extension": ".py",
   "mimetype": "text/x-python",
   "name": "python",
   "nbconvert_exporter": "python",
   "pygments_lexer": "ipython3",
   "version": "3.11.7"
  }
 },
 "nbformat": 4,
 "nbformat_minor": 5
}
